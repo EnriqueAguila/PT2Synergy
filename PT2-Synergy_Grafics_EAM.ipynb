{
 "cells": [
  {
   "cell_type": "markdown",
   "metadata": {
    "id": "57hQmmSGD0S_"
   },
   "source": [
    "# PT2 EAM\n",
    "# Importar pandas"
   ]
  },
  {
   "cell_type": "code",
   "execution_count": 1,
   "metadata": {
    "id": "KDVfXiY4D1Xv"
   },
   "outputs": [],
   "source": [
    "import pandas as pd\n",
    "import seaborn as sns\n",
    "import matplotlib.pyplot as plt\n",
    "import numpy as np"
   ]
  },
  {
   "cell_type": "markdown",
   "metadata": {
    "id": "0yg8R_MgW0go"
   },
   "source": [
    "\n",
    "# Estructura de datos\n",
    "![Alt text](AA.png \"AA.title\")"
   ]
  },
  {
   "cell_type": "code",
   "execution_count": null,
   "metadata": {
    "colab": {
     "base_uri": "https://localhost:8080/",
     "height": 238
    },
    "id": "YQr2j_YODdeQ",
    "outputId": "c60a2974-38fe-46da-82ed-458cb64e3fd6"
   },
   "outputs": [
    {
     "data": {
      "text/html": [
       "\n",
       "  <div id=\"df-ee5ada0b-7f89-4735-8e25-4a48b93843da\">\n",
       "    <div class=\"colab-df-container\">\n",
       "      <div>\n",
       "<style scoped>\n",
       "    .dataframe tbody tr th:only-of-type {\n",
       "        vertical-align: middle;\n",
       "    }\n",
       "\n",
       "    .dataframe tbody tr th {\n",
       "        vertical-align: top;\n",
       "    }\n",
       "\n",
       "    .dataframe thead th {\n",
       "        text-align: right;\n",
       "    }\n",
       "</style>\n",
       "<table border=\"1\" class=\"dataframe\">\n",
       "  <thead>\n",
       "    <tr style=\"text-align: right;\">\n",
       "      <th></th>\n",
       "      <th>direction</th>\n",
       "      <th>origin</th>\n",
       "      <th>destination</th>\n",
       "      <th>year</th>\n",
       "      <th>date</th>\n",
       "      <th>product</th>\n",
       "      <th>transport_mode</th>\n",
       "      <th>company_name</th>\n",
       "      <th>total_value</th>\n",
       "    </tr>\n",
       "    <tr>\n",
       "      <th>register_id</th>\n",
       "      <th></th>\n",
       "      <th></th>\n",
       "      <th></th>\n",
       "      <th></th>\n",
       "      <th></th>\n",
       "      <th></th>\n",
       "      <th></th>\n",
       "      <th></th>\n",
       "      <th></th>\n",
       "    </tr>\n",
       "  </thead>\n",
       "  <tbody>\n",
       "    <tr>\n",
       "      <th>1</th>\n",
       "      <td>Exports</td>\n",
       "      <td>Japan</td>\n",
       "      <td>China</td>\n",
       "      <td>2015</td>\n",
       "      <td>2015-01-31</td>\n",
       "      <td>Cars</td>\n",
       "      <td>Sea</td>\n",
       "      <td>Honda</td>\n",
       "      <td>33000000</td>\n",
       "    </tr>\n",
       "    <tr>\n",
       "      <th>2</th>\n",
       "      <td>Exports</td>\n",
       "      <td>Japan</td>\n",
       "      <td>China</td>\n",
       "      <td>2015</td>\n",
       "      <td>2015-02-01</td>\n",
       "      <td>Cars</td>\n",
       "      <td>Sea</td>\n",
       "      <td>Honda</td>\n",
       "      <td>16000000</td>\n",
       "    </tr>\n",
       "    <tr>\n",
       "      <th>3</th>\n",
       "      <td>Exports</td>\n",
       "      <td>Japan</td>\n",
       "      <td>China</td>\n",
       "      <td>2015</td>\n",
       "      <td>2015-02-02</td>\n",
       "      <td>Cars</td>\n",
       "      <td>Sea</td>\n",
       "      <td>Honda</td>\n",
       "      <td>29000000</td>\n",
       "    </tr>\n",
       "    <tr>\n",
       "      <th>4</th>\n",
       "      <td>Exports</td>\n",
       "      <td>Japan</td>\n",
       "      <td>China</td>\n",
       "      <td>2015</td>\n",
       "      <td>2015-02-03</td>\n",
       "      <td>Cars</td>\n",
       "      <td>Sea</td>\n",
       "      <td>Honda</td>\n",
       "      <td>14000000</td>\n",
       "    </tr>\n",
       "    <tr>\n",
       "      <th>5</th>\n",
       "      <td>Exports</td>\n",
       "      <td>Japan</td>\n",
       "      <td>China</td>\n",
       "      <td>2015</td>\n",
       "      <td>2015-02-04</td>\n",
       "      <td>Cars</td>\n",
       "      <td>Sea</td>\n",
       "      <td>Honda</td>\n",
       "      <td>17000000</td>\n",
       "    </tr>\n",
       "  </tbody>\n",
       "</table>\n",
       "</div>\n",
       "      <button class=\"colab-df-convert\" onclick=\"convertToInteractive('df-ee5ada0b-7f89-4735-8e25-4a48b93843da')\"\n",
       "              title=\"Convert this dataframe to an interactive table.\"\n",
       "              style=\"display:none;\">\n",
       "        \n",
       "  <svg xmlns=\"http://www.w3.org/2000/svg\" height=\"24px\"viewBox=\"0 0 24 24\"\n",
       "       width=\"24px\">\n",
       "    <path d=\"M0 0h24v24H0V0z\" fill=\"none\"/>\n",
       "    <path d=\"M18.56 5.44l.94 2.06.94-2.06 2.06-.94-2.06-.94-.94-2.06-.94 2.06-2.06.94zm-11 1L8.5 8.5l.94-2.06 2.06-.94-2.06-.94L8.5 2.5l-.94 2.06-2.06.94zm10 10l.94 2.06.94-2.06 2.06-.94-2.06-.94-.94-2.06-.94 2.06-2.06.94z\"/><path d=\"M17.41 7.96l-1.37-1.37c-.4-.4-.92-.59-1.43-.59-.52 0-1.04.2-1.43.59L10.3 9.45l-7.72 7.72c-.78.78-.78 2.05 0 2.83L4 21.41c.39.39.9.59 1.41.59.51 0 1.02-.2 1.41-.59l7.78-7.78 2.81-2.81c.8-.78.8-2.07 0-2.86zM5.41 20L4 18.59l7.72-7.72 1.47 1.35L5.41 20z\"/>\n",
       "  </svg>\n",
       "      </button>\n",
       "      \n",
       "  <style>\n",
       "    .colab-df-container {\n",
       "      display:flex;\n",
       "      flex-wrap:wrap;\n",
       "      gap: 12px;\n",
       "    }\n",
       "\n",
       "    .colab-df-convert {\n",
       "      background-color: #E8F0FE;\n",
       "      border: none;\n",
       "      border-radius: 50%;\n",
       "      cursor: pointer;\n",
       "      display: none;\n",
       "      fill: #1967D2;\n",
       "      height: 32px;\n",
       "      padding: 0 0 0 0;\n",
       "      width: 32px;\n",
       "    }\n",
       "\n",
       "    .colab-df-convert:hover {\n",
       "      background-color: #E2EBFA;\n",
       "      box-shadow: 0px 1px 2px rgba(60, 64, 67, 0.3), 0px 1px 3px 1px rgba(60, 64, 67, 0.15);\n",
       "      fill: #174EA6;\n",
       "    }\n",
       "\n",
       "    [theme=dark] .colab-df-convert {\n",
       "      background-color: #3B4455;\n",
       "      fill: #D2E3FC;\n",
       "    }\n",
       "\n",
       "    [theme=dark] .colab-df-convert:hover {\n",
       "      background-color: #434B5C;\n",
       "      box-shadow: 0px 1px 3px 1px rgba(0, 0, 0, 0.15);\n",
       "      filter: drop-shadow(0px 1px 2px rgba(0, 0, 0, 0.3));\n",
       "      fill: #FFFFFF;\n",
       "    }\n",
       "  </style>\n",
       "\n",
       "      <script>\n",
       "        const buttonEl =\n",
       "          document.querySelector('#df-ee5ada0b-7f89-4735-8e25-4a48b93843da button.colab-df-convert');\n",
       "        buttonEl.style.display =\n",
       "          google.colab.kernel.accessAllowed ? 'block' : 'none';\n",
       "\n",
       "        async function convertToInteractive(key) {\n",
       "          const element = document.querySelector('#df-ee5ada0b-7f89-4735-8e25-4a48b93843da');\n",
       "          const dataTable =\n",
       "            await google.colab.kernel.invokeFunction('convertToInteractive',\n",
       "                                                     [key], {});\n",
       "          if (!dataTable) return;\n",
       "\n",
       "          const docLinkHtml = 'Like what you see? Visit the ' +\n",
       "            '<a target=\"_blank\" href=https://colab.research.google.com/notebooks/data_table.ipynb>data table notebook</a>'\n",
       "            + ' to learn more about interactive tables.';\n",
       "          element.innerHTML = '';\n",
       "          dataTable['output_type'] = 'display_data';\n",
       "          await google.colab.output.renderOutput(dataTable, element);\n",
       "          const docLink = document.createElement('div');\n",
       "          docLink.innerHTML = docLinkHtml;\n",
       "          element.appendChild(docLink);\n",
       "        }\n",
       "      </script>\n",
       "    </div>\n",
       "  </div>\n",
       "  "
      ],
      "text/plain": [
       "            direction origin  ... company_name  total_value\n",
       "register_id                   ...                          \n",
       "1             Exports  Japan  ...        Honda     33000000\n",
       "2             Exports  Japan  ...        Honda     16000000\n",
       "3             Exports  Japan  ...        Honda     29000000\n",
       "4             Exports  Japan  ...        Honda     14000000\n",
       "5             Exports  Japan  ...        Honda     17000000\n",
       "\n",
       "[5 rows x 9 columns]"
      ]
     },
     "execution_count": 175,
     "metadata": {},
     "output_type": "execute_result"
    }
   ],
   "source": [
    "# Lectura y conversión de archivo .cvs a DataFrame de Pandas\n",
    "df_logistics=pd.read_csv('/content/drive/MyDrive/Personal/EmTech/synergy_logistics_database.csv',index_col=0)\n",
    "# Dentro del dataframe de df_logistics aseguramos que la columna de date sea de tipo datetime\n",
    "df_logistics['date'] = pd.to_datetime(df_logistics['date'],format='%d/%m/%y')\n",
    "df_logistics.head()"
   ]
  },
  {
   "cell_type": "markdown",
   "metadata": {
    "id": "3EmibBUSDKnW"
   },
   "source": [
    "# Opción 1\n",
    "##### Rutas de importación y exportación. Synergy logistics está considerando la posibilidad de enfocar sus esfuerzos en las 10 rutas más demandadas. Acorde a los flujos de importación y exportación, ¿cuáles son esas 10 rutas? ¿le conviene implementar esa estrategia? ¿porqué?"
   ]
  },
  {
   "cell_type": "code",
   "execution_count": null,
   "metadata": {
    "id": "TVlqlwL0WuPM"
   },
   "outputs": [],
   "source": [
    "# Filtar por tipo de Dirección (Imports, Exports)\n",
    "df_imports=df_logistics.loc[df_logistics['direction'] == 'Imports']\n",
    "df_exports=df_logistics.loc[df_logistics['direction'] == 'Exports']"
   ]
  },
  {
   "cell_type": "code",
   "execution_count": null,
   "metadata": {
    "colab": {
     "base_uri": "https://localhost:8080/"
    },
    "id": "kvwdPAxij2K-",
    "outputId": "bf6ccf9a-74b3-4d57-ffcf-9bc2997088c6"
   },
   "outputs": [
    {
     "name": "stdout",
     "output_type": "stream",
     "text": [
      "|:-------Rutas mas demandadas-------| Cant|\n",
      "|                                   |   0 |\n",
      "|:----------------------------------|----:|\n",
      "| ('Singapore', 'Thailand')         | 273 |\n",
      "| ('Germany', 'China')              | 233 |\n",
      "| ('China', 'Japan')                | 210 |\n",
      "| ('Japan', 'Mexico')               | 206 |\n",
      "| ('China', 'Thailand')             | 200 |\n",
      "| ('Malaysia', 'Thailand')          | 195 |\n",
      "| ('Spain', 'Germany')              | 142 |\n",
      "| ('Mexico', 'USA')                 | 122 |\n",
      "| ('China', 'United Arab Emirates') | 114 |\n",
      "| ('Brazil', 'China')               | 113 |\n"
     ]
    }
   ],
   "source": [
    "# Contar con respecto a Imports y las rutas de origen y destino considerando las 10 mas demandadas\n",
    "res_imports=df_imports[['origin','destination']].value_counts()\n",
    "print(\"|:-------Rutas mas demandadas-------| Cant|\")\n",
    "print(res_imports[0:10].to_markdown())"
   ]
  },
  {
   "cell_type": "code",
   "execution_count": null,
   "metadata": {
    "colab": {
     "base_uri": "https://localhost:8080/"
    },
    "id": "CcIMJHF8q99v",
    "outputId": "e9b4f9d0-fbe5-4130-84e0-5956d66a03c5"
   },
   "outputs": [
    {
     "name": "stdout",
     "output_type": "stream",
     "text": [
      "|:---Rutas mas demandadas----| Cant|\n",
      "|                            |   0 |\n",
      "|:---------------------------|----:|\n",
      "| ('South Korea', 'Vietnam') | 497 |\n",
      "| ('Netherlands', 'Belgium') | 437 |\n",
      "| ('USA', 'Netherlands')     | 436 |\n",
      "| ('China', 'Mexico')        | 330 |\n",
      "| ('Japan', 'Brazil')        | 306 |\n",
      "| ('Germany', 'France')      | 299 |\n",
      "| ('South Korea', 'Japan')   | 279 |\n",
      "| ('Australia', 'Singapore') | 273 |\n",
      "| ('Canada', 'Mexico')       | 261 |\n",
      "| ('China', 'Spain')         | 250 |\n"
     ]
    }
   ],
   "source": [
    "# Contar con respecto a Exports y las rutas de origen y destino considerando las 10 mas demandadas\n",
    "df_res_exports=df_exports[['origin','destination']].value_counts()\n",
    "print(\"|:---Rutas mas demandadas----| Cant|\")\n",
    "print(df_res_exports[0:10].to_markdown())"
   ]
  },
  {
   "cell_type": "markdown",
   "metadata": {
    "id": "WyN3hyb-Riw_"
   },
   "source": [
    "# Opción 2\n",
    "#### Medio de transporte utilizado. ¿Cuáles son los 3 medios de transporte más importantes para Synergy logistics considerando el valor de las importaciones y exportaciones? ¿Cuál es medio de transporte que podrían reducir?"
   ]
  },
  {
   "cell_type": "code",
   "execution_count": null,
   "metadata": {
    "colab": {
     "base_uri": "https://localhost:8080/"
    },
    "id": "N-GcJZ0d9Phy",
    "outputId": "81914164-4927-46a6-df6b-2736839f27ac"
   },
   "outputs": [
    {
     "name": "stdout",
     "output_type": "stream",
     "text": [
      "|      | total_imp          |\n",
      "|:-----|:-------------------|\n",
      "| Sea  | $34,938,000,000.00 |\n",
      "| Rail | $9,123,000,000.00  |\n",
      "| Road | $5,990,000,000.00  |\n",
      "| Air  | $5,477,000,000.00  |\n"
     ]
    }
   ],
   "source": [
    "# Proceso para obtener el valor total por cada tipo de transporte (Rail, Sea, Air, Road) por Import\n",
    "df_trans_imp=df_imports['transport_mode'].unique()\n",
    "dict_imp_tot={}\n",
    "for t in df_trans_imp:\n",
    "  df_res_tmp=df_imports.loc[df_imports['transport_mode'] == t]\n",
    "  dict_imp_tot[t]=df_res_tmp['total_value'].sum()\n",
    "# print(dict_imp_tot)\n",
    "df_total_imp=pd.DataFrame.from_dict(dict_imp_tot, orient='index',columns=['total_imp'])\n",
    "df_total_imp=df_total_imp.sort_values(by=['total_imp'],ascending=False)\n",
    "print(df_total_imp['total_imp'].apply(lambda x: \"${:,.2f}\".format((x))).to_markdown())"
   ]
  },
  {
   "cell_type": "code",
   "execution_count": null,
   "metadata": {
    "colab": {
     "base_uri": "https://localhost:8080/",
     "height": 295
    },
    "id": "6ePbieYuMYeq",
    "outputId": "c8e7f686-12b3-45f9-af0c-7a400932e903"
   },
   "outputs": [],
   "source": [
    "# Grafica para los tipos de transporte de Imports\n",
    "## Declaramos valores para el eje x\n",
    "eje_x = ['Sea', 'Rail', 'Road', 'Air']\n",
    "## Declaramos valores para el eje y\n",
    "eje_y = df_total_imp.total_imp\n",
    "## Creamos Gráfica\n",
    "plt.bar(eje_x, eje_y, color=['green', 'blue', 'yellow', 'red'], edgecolor='black')\n",
    "## Legenda en el eje y\n",
    "plt.ylabel('Total de Imports')\n",
    "## Legenda en el eje x\n",
    "plt.xlabel('Tipos de transporte')\n",
    "## Título de Gráfica\n",
    "plt.title('Valor total para Imports')\n",
    "## Mostramos Gráfica\n",
    "plt.show()"
   ]
  },
  {
   "cell_type": "code",
   "execution_count": null,
   "metadata": {},
   "outputs": [],
   "source": [
    "![Alt text](descargas/a.jpg \"AD title\")"
   ]
  },
  {
   "cell_type": "code",
   "execution_count": null,
   "metadata": {
    "colab": {
     "base_uri": "https://localhost:8080/"
    },
    "id": "6HrGXKBfI1UC",
    "outputId": "d2c6833e-1082-4b17-9b93-0939ff2ca225"
   },
   "outputs": [
    {
     "name": "stdout",
     "output_type": "stream",
     "text": [
      "|      | total_exp          |\n",
      "|:-----|:-------------------|\n",
      "| Sea  | $65,592,622,000.00 |\n",
      "| Rail | $34,505,043,000.00 |\n",
      "| Air  | $32,785,147,000.00 |\n",
      "| Road | $27,280,486,000.00 |\n"
     ]
    }
   ],
   "source": [
    "# Proceso para obtener el valor total por cada tipo de transporte (Rail, Sea, Air, Road) por Export\n",
    "df_trans_exp=df_exports['transport_mode'].unique()\n",
    "dict_exp_tot={}\n",
    "for t in df_trans_exp:\n",
    "  df_res_tmp=df_exports.loc[df_exports['transport_mode'] == t]\n",
    "  dict_exp_tot[t]=df_res_tmp['total_value'].sum()\n",
    "\n",
    "df_total_exp=pd.DataFrame.from_dict(dict_exp_tot, orient='index',columns=['total_exp'])\n",
    "df_total_exp=df_total_exp.sort_values(by=['total_exp'],ascending=False)\n",
    "print(df_total_exp['total_exp'].apply(lambda x: \"${:,.2f}\".format((x))).to_markdown())"
   ]
  },
  {
   "cell_type": "code",
   "execution_count": null,
   "metadata": {
    "colab": {
     "base_uri": "https://localhost:8080/",
     "height": 295
    },
    "id": "8MzMrrmyR3wm",
    "outputId": "6fca890f-6602-4b74-9eaf-7888b53d5185"
   },
   "outputs": [],
   "source": [
    "# Grafica para los tipos de transporte de Exports\n",
    "## Declaramos valores para el eje x\n",
    "eje_x = ['Sea', 'Rail', 'Air', 'Road']\n",
    "## Declaramos valores para el eje y\n",
    "eje_y = df_total_exp.total_exp\n",
    "## Creamos Gráfica\n",
    "plt.bar(eje_x, eje_y, color=['green', 'blue', 'red','yellow'], edgecolor='black')\n",
    "## Legenda en el eje y\n",
    "plt.ylabel('Total de Exports')\n",
    "## Legenda en el eje x\n",
    "plt.xlabel('Tipos de transporte')\n",
    "## Título de Gráfica\n",
    "plt.title('Valor total para Exports')\n",
    "## Mostramos Gráfica\n",
    "plt.show()"
   ]
  },
  {
   "cell_type": "code",
   "execution_count": null,
   "metadata": {},
   "outputs": [],
   "source": [
    "![Alt text](descargas/a.jpg \"AE title\")"
   ]
  },
  {
   "cell_type": "code",
   "execution_count": null,
   "metadata": {
    "colab": {
     "base_uri": "https://localhost:8080/",
     "height": 174
    },
    "id": "03W2kgwoJJjR",
    "outputId": "d922f7bb-cd39-4452-c3cf-d3e6c331df56"
   },
   "outputs": [
    {
     "data": {
      "text/html": [
       "\n",
       "  <div id=\"df-d974937c-4111-4939-8d07-e69aad74830f\">\n",
       "    <div class=\"colab-df-container\">\n",
       "      <div>\n",
       "<style scoped>\n",
       "    .dataframe tbody tr th:only-of-type {\n",
       "        vertical-align: middle;\n",
       "    }\n",
       "\n",
       "    .dataframe tbody tr th {\n",
       "        vertical-align: top;\n",
       "    }\n",
       "\n",
       "    .dataframe thead th {\n",
       "        text-align: right;\n",
       "    }\n",
       "</style>\n",
       "<table border=\"1\" class=\"dataframe\">\n",
       "  <thead>\n",
       "    <tr style=\"text-align: right;\">\n",
       "      <th></th>\n",
       "      <th>total_imp</th>\n",
       "      <th>total_exp</th>\n",
       "    </tr>\n",
       "  </thead>\n",
       "  <tbody>\n",
       "    <tr>\n",
       "      <th>Sea</th>\n",
       "      <td>$34,938,000,000.00</td>\n",
       "      <td>$65,592,622,000.00</td>\n",
       "    </tr>\n",
       "    <tr>\n",
       "      <th>Rail</th>\n",
       "      <td>$9,123,000,000.00</td>\n",
       "      <td>$34,505,043,000.00</td>\n",
       "    </tr>\n",
       "    <tr>\n",
       "      <th>Road</th>\n",
       "      <td>$5,990,000,000.00</td>\n",
       "      <td>$27,280,486,000.00</td>\n",
       "    </tr>\n",
       "    <tr>\n",
       "      <th>Air</th>\n",
       "      <td>$5,477,000,000.00</td>\n",
       "      <td>$32,785,147,000.00</td>\n",
       "    </tr>\n",
       "  </tbody>\n",
       "</table>\n",
       "</div>\n",
       "      <button class=\"colab-df-convert\" onclick=\"convertToInteractive('df-d974937c-4111-4939-8d07-e69aad74830f')\"\n",
       "              title=\"Convert this dataframe to an interactive table.\"\n",
       "              style=\"display:none;\">\n",
       "        \n",
       "  <svg xmlns=\"http://www.w3.org/2000/svg\" height=\"24px\"viewBox=\"0 0 24 24\"\n",
       "       width=\"24px\">\n",
       "    <path d=\"M0 0h24v24H0V0z\" fill=\"none\"/>\n",
       "    <path d=\"M18.56 5.44l.94 2.06.94-2.06 2.06-.94-2.06-.94-.94-2.06-.94 2.06-2.06.94zm-11 1L8.5 8.5l.94-2.06 2.06-.94-2.06-.94L8.5 2.5l-.94 2.06-2.06.94zm10 10l.94 2.06.94-2.06 2.06-.94-2.06-.94-.94-2.06-.94 2.06-2.06.94z\"/><path d=\"M17.41 7.96l-1.37-1.37c-.4-.4-.92-.59-1.43-.59-.52 0-1.04.2-1.43.59L10.3 9.45l-7.72 7.72c-.78.78-.78 2.05 0 2.83L4 21.41c.39.39.9.59 1.41.59.51 0 1.02-.2 1.41-.59l7.78-7.78 2.81-2.81c.8-.78.8-2.07 0-2.86zM5.41 20L4 18.59l7.72-7.72 1.47 1.35L5.41 20z\"/>\n",
       "  </svg>\n",
       "      </button>\n",
       "      \n",
       "  <style>\n",
       "    .colab-df-container {\n",
       "      display:flex;\n",
       "      flex-wrap:wrap;\n",
       "      gap: 12px;\n",
       "    }\n",
       "\n",
       "    .colab-df-convert {\n",
       "      background-color: #E8F0FE;\n",
       "      border: none;\n",
       "      border-radius: 50%;\n",
       "      cursor: pointer;\n",
       "      display: none;\n",
       "      fill: #1967D2;\n",
       "      height: 32px;\n",
       "      padding: 0 0 0 0;\n",
       "      width: 32px;\n",
       "    }\n",
       "\n",
       "    .colab-df-convert:hover {\n",
       "      background-color: #E2EBFA;\n",
       "      box-shadow: 0px 1px 2px rgba(60, 64, 67, 0.3), 0px 1px 3px 1px rgba(60, 64, 67, 0.15);\n",
       "      fill: #174EA6;\n",
       "    }\n",
       "\n",
       "    [theme=dark] .colab-df-convert {\n",
       "      background-color: #3B4455;\n",
       "      fill: #D2E3FC;\n",
       "    }\n",
       "\n",
       "    [theme=dark] .colab-df-convert:hover {\n",
       "      background-color: #434B5C;\n",
       "      box-shadow: 0px 1px 3px 1px rgba(0, 0, 0, 0.15);\n",
       "      filter: drop-shadow(0px 1px 2px rgba(0, 0, 0, 0.3));\n",
       "      fill: #FFFFFF;\n",
       "    }\n",
       "  </style>\n",
       "\n",
       "      <script>\n",
       "        const buttonEl =\n",
       "          document.querySelector('#df-d974937c-4111-4939-8d07-e69aad74830f button.colab-df-convert');\n",
       "        buttonEl.style.display =\n",
       "          google.colab.kernel.accessAllowed ? 'block' : 'none';\n",
       "\n",
       "        async function convertToInteractive(key) {\n",
       "          const element = document.querySelector('#df-d974937c-4111-4939-8d07-e69aad74830f');\n",
       "          const dataTable =\n",
       "            await google.colab.kernel.invokeFunction('convertToInteractive',\n",
       "                                                     [key], {});\n",
       "          if (!dataTable) return;\n",
       "\n",
       "          const docLinkHtml = 'Like what you see? Visit the ' +\n",
       "            '<a target=\"_blank\" href=https://colab.research.google.com/notebooks/data_table.ipynb>data table notebook</a>'\n",
       "            + ' to learn more about interactive tables.';\n",
       "          element.innerHTML = '';\n",
       "          dataTable['output_type'] = 'display_data';\n",
       "          await google.colab.output.renderOutput(dataTable, element);\n",
       "          const docLink = document.createElement('div');\n",
       "          docLink.innerHTML = docLinkHtml;\n",
       "          element.appendChild(docLink);\n",
       "        }\n",
       "      </script>\n",
       "    </div>\n",
       "  </div>\n",
       "  "
      ],
      "text/plain": [
       "               total_imp           total_exp\n",
       "Sea   $34,938,000,000.00  $65,592,622,000.00\n",
       "Rail   $9,123,000,000.00  $34,505,043,000.00\n",
       "Road   $5,990,000,000.00  $27,280,486,000.00\n",
       "Air    $5,477,000,000.00  $32,785,147,000.00"
      ]
     },
     "execution_count": 196,
     "metadata": {},
     "output_type": "execute_result"
    }
   ],
   "source": [
    "# Concatenamos ambos dfs usando como referencia de índice los tipos de transporte.\n",
    "result = pd.concat([df_total_imp, df_total_exp], axis=1)\n",
    "result['total_imp']=result['total_imp'].apply(lambda x: \"${:,.2f}\".format((x)))\n",
    "result['total_exp']=result['total_exp'].apply(lambda y: \"${:,.2f}\".format((y)))\n",
    "result"
   ]
  },
  {
   "cell_type": "code",
   "execution_count": null,
   "metadata": {
    "colab": {
     "base_uri": "https://localhost:8080/",
     "height": 295
    },
    "id": "eLSJ1jAASRuc",
    "outputId": "68334617-d6f0-460f-c678-2c0ff51cd65e"
   },
   "outputs": [],
   "source": [
    "# Grafica para los tipos de transporte de Imports y Exports\n",
    "serie_imp=df_total_imp.total_imp\n",
    "serie_exp=df_total_exp.total_exp\n",
    "\n",
    "numero_de_grupos = len(serie_imp)\n",
    "indice_barras = np.arange(numero_de_grupos)\n",
    "ancho_barras =0.35\n",
    "\n",
    "plt.bar(indice_barras, serie_imp, width=ancho_barras, label='Imports')\n",
    "plt.bar(indice_barras + ancho_barras, serie_exp, width=ancho_barras, label='Exports')\n",
    "plt.legend(loc='best')\n",
    "## Se colocan los indicadores en el eje x\n",
    "plt.xticks(indice_barras + ancho_barras, ('Sea', 'Rail', 'Road', 'Air'))\n",
    "\n",
    "plt.ylabel('Total de Imports Exports')\n",
    "plt.xlabel('Tipo de Teansporte')\n",
    "plt.title('Valor total para Imports y Exports')\n",
    " \n",
    "plt.show()"
   ]
  },
  {
   "cell_type": "code",
   "execution_count": null,
   "metadata": {},
   "outputs": [],
   "source": [
    "![Alt text](descargas/a.jpg \"AF title\")"
   ]
  },
  {
   "cell_type": "markdown",
   "metadata": {
    "id": "VVDoBLNmog3T"
   },
   "source": [
    "# Opción 3\n",
    "\n",
    "#### Valor total de importaciones y exportaciones. Si Synergy Logistics quisiera enfocarse en los países que le generan el 80% del valor de las exportaciones e importaciones ¿en qué grupo de países debería enfocar sus esfuerzos?"
   ]
  },
  {
   "cell_type": "code",
   "execution_count": null,
   "metadata": {
    "colab": {
     "base_uri": "https://localhost:8080/"
    },
    "id": "0c8577odWwsm",
    "outputId": "b753fff0-758b-4ee7-d390-b0aab17f1329"
   },
   "outputs": [
    {
     "name": "stdout",
     "output_type": "stream",
     "text": [
      "El Total de importaciones es de: $55,528,000,000.00\n"
     ]
    }
   ],
   "source": [
    "# Total de importaciones\n",
    "total_source_value=df_imports['total_value'].sum()\n",
    "\n",
    "# Para obtener el total de importaciones en formato monetario\n",
    "total_print='${:,.2f}'.format(total_source_value)\n",
    "print(f'El Total de importaciones es de: {total_print}')"
   ]
  },
  {
   "cell_type": "code",
   "execution_count": null,
   "metadata": {
    "colab": {
     "base_uri": "https://localhost:8080/"
    },
    "id": "BLcy2YGltM5B",
    "outputId": "2ed05896-c074-4663-e8c2-c4d7428c3794"
   },
   "outputs": [
    {
     "data": {
      "text/plain": [
       "array(['Mexico', 'Japan', 'China', 'South Korea', 'USA', 'Spain',\n",
       "       'Germany', 'Italy', 'Vietnam', 'Malaysia', 'Singapore', 'France',\n",
       "       'Russia', 'United Arab Emirates', 'Canada', 'United Kingdom',\n",
       "       'Brazil', 'Australia'], dtype=object)"
      ]
     },
     "execution_count": 186,
     "metadata": {},
     "output_type": "execute_result"
    }
   ],
   "source": [
    "# Generar lista de origenes para Imports\n",
    "source_list=df_imports['origin'].unique()\n",
    "source_list"
   ]
  },
  {
   "cell_type": "code",
   "execution_count": null,
   "metadata": {
    "colab": {
     "base_uri": "https://localhost:8080/"
    },
    "id": "gvb0ahVDtVF0",
    "outputId": "3b323226-deeb-4f16-a0b5-92612ab2701c"
   },
   "outputs": [
    {
     "data": {
      "text/plain": [
       "[['Mexico', 4621000000],\n",
       " ['Japan', 8094000000],\n",
       " ['China', 12233000000],\n",
       " ['South Korea', 3889000000],\n",
       " ['USA', 5291000000],\n",
       " ['Spain', 3001000000],\n",
       " ['Germany', 4250000000],\n",
       " ['Italy', 1268000000],\n",
       " ['Vietnam', 540000000],\n",
       " ['Malaysia', 3560000000],\n",
       " ['Singapore', 4017000000],\n",
       " ['France', 1316000000],\n",
       " ['Russia', 851000000],\n",
       " ['United Arab Emirates', 371000000],\n",
       " ['Canada', 569000000],\n",
       " ['United Kingdom', 248000000],\n",
       " ['Brazil', 489000000],\n",
       " ['Australia', 920000000]]"
      ]
     },
     "execution_count": 187,
     "metadata": {},
     "output_type": "execute_result"
    }
   ],
   "source": [
    "# Generar listado para cada origen sumando el total_value por cada origen\n",
    "source_total=[]\n",
    "for origin in source_list:\n",
    "  source=df_imports.loc[df_imports['origin']==origin]\n",
    "  source_total.append([origin,source['total_value'].sum()])\n",
    "source_total"
   ]
  },
  {
   "cell_type": "code",
   "execution_count": null,
   "metadata": {
    "colab": {
     "base_uri": "https://localhost:8080/",
     "height": 300
    },
    "id": "RXLDzB7RvS21",
    "outputId": "e55573a3-dc7b-4c82-c8ae-dba81b743334"
   },
   "outputs": [
    {
     "data": {
      "text/html": [
       "\n",
       "  <div id=\"df-22a4a5cb-84a5-4fcd-ae7c-8bf8ac575dc2\">\n",
       "    <div class=\"colab-df-container\">\n",
       "      <div>\n",
       "<style scoped>\n",
       "    .dataframe tbody tr th:only-of-type {\n",
       "        vertical-align: middle;\n",
       "    }\n",
       "\n",
       "    .dataframe tbody tr th {\n",
       "        vertical-align: top;\n",
       "    }\n",
       "\n",
       "    .dataframe thead th {\n",
       "        text-align: right;\n",
       "    }\n",
       "</style>\n",
       "<table border=\"1\" class=\"dataframe\">\n",
       "  <thead>\n",
       "    <tr style=\"text-align: right;\">\n",
       "      <th></th>\n",
       "      <th>Origin</th>\n",
       "      <th>total_value</th>\n",
       "      <th>percent</th>\n",
       "      <th>cum_percent</th>\n",
       "    </tr>\n",
       "  </thead>\n",
       "  <tbody>\n",
       "    <tr>\n",
       "      <th>2</th>\n",
       "      <td>China</td>\n",
       "      <td>12233000000</td>\n",
       "      <td>0.220303</td>\n",
       "      <td>0.220303</td>\n",
       "    </tr>\n",
       "    <tr>\n",
       "      <th>1</th>\n",
       "      <td>Japan</td>\n",
       "      <td>8094000000</td>\n",
       "      <td>0.145764</td>\n",
       "      <td>0.366068</td>\n",
       "    </tr>\n",
       "    <tr>\n",
       "      <th>4</th>\n",
       "      <td>USA</td>\n",
       "      <td>5291000000</td>\n",
       "      <td>0.095285</td>\n",
       "      <td>0.461353</td>\n",
       "    </tr>\n",
       "    <tr>\n",
       "      <th>0</th>\n",
       "      <td>Mexico</td>\n",
       "      <td>4621000000</td>\n",
       "      <td>0.083219</td>\n",
       "      <td>0.544572</td>\n",
       "    </tr>\n",
       "    <tr>\n",
       "      <th>6</th>\n",
       "      <td>Germany</td>\n",
       "      <td>4250000000</td>\n",
       "      <td>0.076538</td>\n",
       "      <td>0.621110</td>\n",
       "    </tr>\n",
       "    <tr>\n",
       "      <th>10</th>\n",
       "      <td>Singapore</td>\n",
       "      <td>4017000000</td>\n",
       "      <td>0.072342</td>\n",
       "      <td>0.693452</td>\n",
       "    </tr>\n",
       "    <tr>\n",
       "      <th>3</th>\n",
       "      <td>South Korea</td>\n",
       "      <td>3889000000</td>\n",
       "      <td>0.070037</td>\n",
       "      <td>0.763489</td>\n",
       "    </tr>\n",
       "    <tr>\n",
       "      <th>9</th>\n",
       "      <td>Malaysia</td>\n",
       "      <td>3560000000</td>\n",
       "      <td>0.064112</td>\n",
       "      <td>0.827600</td>\n",
       "    </tr>\n",
       "  </tbody>\n",
       "</table>\n",
       "</div>\n",
       "      <button class=\"colab-df-convert\" onclick=\"convertToInteractive('df-22a4a5cb-84a5-4fcd-ae7c-8bf8ac575dc2')\"\n",
       "              title=\"Convert this dataframe to an interactive table.\"\n",
       "              style=\"display:none;\">\n",
       "        \n",
       "  <svg xmlns=\"http://www.w3.org/2000/svg\" height=\"24px\"viewBox=\"0 0 24 24\"\n",
       "       width=\"24px\">\n",
       "    <path d=\"M0 0h24v24H0V0z\" fill=\"none\"/>\n",
       "    <path d=\"M18.56 5.44l.94 2.06.94-2.06 2.06-.94-2.06-.94-.94-2.06-.94 2.06-2.06.94zm-11 1L8.5 8.5l.94-2.06 2.06-.94-2.06-.94L8.5 2.5l-.94 2.06-2.06.94zm10 10l.94 2.06.94-2.06 2.06-.94-2.06-.94-.94-2.06-.94 2.06-2.06.94z\"/><path d=\"M17.41 7.96l-1.37-1.37c-.4-.4-.92-.59-1.43-.59-.52 0-1.04.2-1.43.59L10.3 9.45l-7.72 7.72c-.78.78-.78 2.05 0 2.83L4 21.41c.39.39.9.59 1.41.59.51 0 1.02-.2 1.41-.59l7.78-7.78 2.81-2.81c.8-.78.8-2.07 0-2.86zM5.41 20L4 18.59l7.72-7.72 1.47 1.35L5.41 20z\"/>\n",
       "  </svg>\n",
       "      </button>\n",
       "      \n",
       "  <style>\n",
       "    .colab-df-container {\n",
       "      display:flex;\n",
       "      flex-wrap:wrap;\n",
       "      gap: 12px;\n",
       "    }\n",
       "\n",
       "    .colab-df-convert {\n",
       "      background-color: #E8F0FE;\n",
       "      border: none;\n",
       "      border-radius: 50%;\n",
       "      cursor: pointer;\n",
       "      display: none;\n",
       "      fill: #1967D2;\n",
       "      height: 32px;\n",
       "      padding: 0 0 0 0;\n",
       "      width: 32px;\n",
       "    }\n",
       "\n",
       "    .colab-df-convert:hover {\n",
       "      background-color: #E2EBFA;\n",
       "      box-shadow: 0px 1px 2px rgba(60, 64, 67, 0.3), 0px 1px 3px 1px rgba(60, 64, 67, 0.15);\n",
       "      fill: #174EA6;\n",
       "    }\n",
       "\n",
       "    [theme=dark] .colab-df-convert {\n",
       "      background-color: #3B4455;\n",
       "      fill: #D2E3FC;\n",
       "    }\n",
       "\n",
       "    [theme=dark] .colab-df-convert:hover {\n",
       "      background-color: #434B5C;\n",
       "      box-shadow: 0px 1px 3px 1px rgba(0, 0, 0, 0.15);\n",
       "      filter: drop-shadow(0px 1px 2px rgba(0, 0, 0, 0.3));\n",
       "      fill: #FFFFFF;\n",
       "    }\n",
       "  </style>\n",
       "\n",
       "      <script>\n",
       "        const buttonEl =\n",
       "          document.querySelector('#df-22a4a5cb-84a5-4fcd-ae7c-8bf8ac575dc2 button.colab-df-convert');\n",
       "        buttonEl.style.display =\n",
       "          google.colab.kernel.accessAllowed ? 'block' : 'none';\n",
       "\n",
       "        async function convertToInteractive(key) {\n",
       "          const element = document.querySelector('#df-22a4a5cb-84a5-4fcd-ae7c-8bf8ac575dc2');\n",
       "          const dataTable =\n",
       "            await google.colab.kernel.invokeFunction('convertToInteractive',\n",
       "                                                     [key], {});\n",
       "          if (!dataTable) return;\n",
       "\n",
       "          const docLinkHtml = 'Like what you see? Visit the ' +\n",
       "            '<a target=\"_blank\" href=https://colab.research.google.com/notebooks/data_table.ipynb>data table notebook</a>'\n",
       "            + ' to learn more about interactive tables.';\n",
       "          element.innerHTML = '';\n",
       "          dataTable['output_type'] = 'display_data';\n",
       "          await google.colab.output.renderOutput(dataTable, element);\n",
       "          const docLink = document.createElement('div');\n",
       "          docLink.innerHTML = docLinkHtml;\n",
       "          element.appendChild(docLink);\n",
       "        }\n",
       "      </script>\n",
       "    </div>\n",
       "  </div>\n",
       "  "
      ],
      "text/plain": [
       "         Origin  total_value   percent  cum_percent\n",
       "2         China  12233000000  0.220303     0.220303\n",
       "1         Japan   8094000000  0.145764     0.366068\n",
       "4           USA   5291000000  0.095285     0.461353\n",
       "0        Mexico   4621000000  0.083219     0.544572\n",
       "6       Germany   4250000000  0.076538     0.621110\n",
       "10    Singapore   4017000000  0.072342     0.693452\n",
       "3   South Korea   3889000000  0.070037     0.763489\n",
       "9      Malaysia   3560000000  0.064112     0.827600"
      ]
     },
     "execution_count": 199,
     "metadata": {},
     "output_type": "execute_result"
    }
   ],
   "source": [
    "# Creamos un dataframe para el total de Países con respecto a Imports\n",
    "# Agregamos columnas de ['percent', 'cum_percent'], para tabla de frecuencia acumulada\n",
    "df_sources = pd.DataFrame(source_total, columns = ['Origin', 'total_value'])\n",
    "df_sources=df_sources.sort_values(by=['total_value'],ascending=False)\n",
    "df_sources['percent']=(df_sources['total_value'] / total_source_value)\n",
    "df_sources['cum_percent']=df_sources['percent'].cumsum()\n",
    "df_sources[:8]"
   ]
  },
  {
   "cell_type": "code",
   "execution_count": null,
   "metadata": {
    "colab": {
     "base_uri": "https://localhost:8080/",
     "height": 248
    },
    "id": "GoyNyfxFWeEB",
    "outputId": "fa752b8a-fecd-4f23-fcf5-628a83deb82c"
   },
   "outputs": [],
   "source": []
  },
  {
   "cell_type": "code",
   "execution_count": null,
   "metadata": {
    "colab": {
     "base_uri": "https://localhost:8080/"
    },
    "id": "BN5oQ8d-ZqTf",
    "outputId": "33d41477-c574-419a-8ba8-837114170ffe"
   },
   "outputs": [
    {
     "name": "stdout",
     "output_type": "stream",
     "text": [
      "El Total de exportaciones es de: $160,163,298,000.00\n"
     ]
    }
   ],
   "source": [
    "# Total de exportaciones\n",
    "total_target_value=df_exports['total_value'].sum()\n",
    "\n",
    "# Para obtener el total de exportaciones \n",
    "total_print='${:,.2f}'.format(total_target_value)\n",
    "print(f'El Total de exportaciones es de: {total_print}')"
   ]
  },
  {
   "cell_type": "code",
   "execution_count": null,
   "metadata": {
    "colab": {
     "base_uri": "https://localhost:8080/"
    },
    "id": "F-aNfcKaeRm0",
    "outputId": "4aba2d81-a9ae-4879-da20-7eedd95167b8"
   },
   "outputs": [
    {
     "data": {
      "text/plain": [
       "array(['China', 'USA', 'South Korea', 'Spain', 'Italy', 'Japan',\n",
       "       'Germany', 'Mexico', 'Brazil', 'France', 'Switzerland',\n",
       "       'United Kingdom', 'Croatia', 'Ireland', 'Belgium', 'Argentina',\n",
       "       'Singapore', 'Canada', 'Netherlands', 'Belorussia', 'Turkey',\n",
       "       'India', 'Vietnam', 'Russia', 'United Arab Emirates', 'Thailand',\n",
       "       'Philippines', 'Peru', 'Austria', 'New Zealand', 'Rusia',\n",
       "       'Slovakia', 'Malaysia'], dtype=object)"
      ]
     },
     "execution_count": 191,
     "metadata": {},
     "output_type": "execute_result"
    }
   ],
   "source": [
    "# Generar lista de destino para exports\n",
    "target_list=df_exports['destination'].unique()\n",
    "target_list"
   ]
  },
  {
   "cell_type": "code",
   "execution_count": null,
   "metadata": {
    "colab": {
     "base_uri": "https://localhost:8080/"
    },
    "id": "9_7973Kxffvf",
    "outputId": "f5d860a1-1bfb-4e79-92f0-b346567aebaf"
   },
   "outputs": [
    {
     "data": {
      "text/plain": [
       "[['China', 11259992000],\n",
       " ['USA', 13159409000],\n",
       " ['South Korea', 7321668000],\n",
       " ['Spain', 5934191000],\n",
       " ['Italy', 6109329000],\n",
       " ['Japan', 8777152000],\n",
       " ['Germany', 11303451000],\n",
       " ['Mexico', 28315015000],\n",
       " ['Brazil', 7508016000],\n",
       " ['France', 5850549000],\n",
       " ['Switzerland', 840346000],\n",
       " ['United Kingdom', 8150673000],\n",
       " ['Croatia', 699000000],\n",
       " ['Ireland', 1147123000],\n",
       " ['Belgium', 13099380000],\n",
       " ['Argentina', 4860036000],\n",
       " ['Singapore', 2437127000],\n",
       " ['Canada', 2714779000],\n",
       " ['Netherlands', 3764239000],\n",
       " ['Belorussia', 3529000000],\n",
       " ['Turkey', 1446000000],\n",
       " ['India', 498000000],\n",
       " ['Vietnam', 6877007000],\n",
       " ['Russia', 1841219000],\n",
       " ['United Arab Emirates', 1037119000],\n",
       " ['Thailand', 337000000],\n",
       " ['Philippines', 344000000],\n",
       " ['Peru', 1673000],\n",
       " ['Austria', 1901000],\n",
       " ['New Zealand', 9382000],\n",
       " ['Rusia', 989046000],\n",
       " ['Slovakia', 258000],\n",
       " ['Malaysia', 218000]]"
      ]
     },
     "execution_count": 192,
     "metadata": {},
     "output_type": "execute_result"
    }
   ],
   "source": [
    "# Generar listado para cada destino sumando el total_value por cada destino\n",
    "target_total=[]\n",
    "for dest in target_list:\n",
    "  destin=df_exports.loc[df_exports['destination']==dest]\n",
    "  target_total.append([dest,destin['total_value'].sum()])\n",
    "target_total"
   ]
  },
  {
   "cell_type": "code",
   "execution_count": null,
   "metadata": {
    "colab": {
     "base_uri": "https://localhost:8080/",
     "height": 457
    },
    "id": "o08egGwvgBsL",
    "outputId": "51501611-4adc-4510-c77f-6fc7ffd795e2"
   },
   "outputs": [
    {
     "data": {
      "text/html": [
       "\n",
       "  <div id=\"df-f8c1be84-0384-4f28-a7ec-30761a78eaca\">\n",
       "    <div class=\"colab-df-container\">\n",
       "      <div>\n",
       "<style scoped>\n",
       "    .dataframe tbody tr th:only-of-type {\n",
       "        vertical-align: middle;\n",
       "    }\n",
       "\n",
       "    .dataframe tbody tr th {\n",
       "        vertical-align: top;\n",
       "    }\n",
       "\n",
       "    .dataframe thead th {\n",
       "        text-align: right;\n",
       "    }\n",
       "</style>\n",
       "<table border=\"1\" class=\"dataframe\">\n",
       "  <thead>\n",
       "    <tr style=\"text-align: right;\">\n",
       "      <th></th>\n",
       "      <th>destination</th>\n",
       "      <th>total_value</th>\n",
       "      <th>percent</th>\n",
       "      <th>cum_percent</th>\n",
       "    </tr>\n",
       "  </thead>\n",
       "  <tbody>\n",
       "    <tr>\n",
       "      <th>7</th>\n",
       "      <td>Mexico</td>\n",
       "      <td>28315015000</td>\n",
       "      <td>0.176788</td>\n",
       "      <td>0.176788</td>\n",
       "    </tr>\n",
       "    <tr>\n",
       "      <th>1</th>\n",
       "      <td>USA</td>\n",
       "      <td>13159409000</td>\n",
       "      <td>0.082162</td>\n",
       "      <td>0.258951</td>\n",
       "    </tr>\n",
       "    <tr>\n",
       "      <th>14</th>\n",
       "      <td>Belgium</td>\n",
       "      <td>13099380000</td>\n",
       "      <td>0.081788</td>\n",
       "      <td>0.340739</td>\n",
       "    </tr>\n",
       "    <tr>\n",
       "      <th>6</th>\n",
       "      <td>Germany</td>\n",
       "      <td>11303451000</td>\n",
       "      <td>0.070575</td>\n",
       "      <td>0.411313</td>\n",
       "    </tr>\n",
       "    <tr>\n",
       "      <th>0</th>\n",
       "      <td>China</td>\n",
       "      <td>11259992000</td>\n",
       "      <td>0.070303</td>\n",
       "      <td>0.481616</td>\n",
       "    </tr>\n",
       "    <tr>\n",
       "      <th>5</th>\n",
       "      <td>Japan</td>\n",
       "      <td>8777152000</td>\n",
       "      <td>0.054801</td>\n",
       "      <td>0.536418</td>\n",
       "    </tr>\n",
       "    <tr>\n",
       "      <th>11</th>\n",
       "      <td>United Kingdom</td>\n",
       "      <td>8150673000</td>\n",
       "      <td>0.050890</td>\n",
       "      <td>0.587307</td>\n",
       "    </tr>\n",
       "    <tr>\n",
       "      <th>8</th>\n",
       "      <td>Brazil</td>\n",
       "      <td>7508016000</td>\n",
       "      <td>0.046877</td>\n",
       "      <td>0.634185</td>\n",
       "    </tr>\n",
       "    <tr>\n",
       "      <th>2</th>\n",
       "      <td>South Korea</td>\n",
       "      <td>7321668000</td>\n",
       "      <td>0.045714</td>\n",
       "      <td>0.679898</td>\n",
       "    </tr>\n",
       "    <tr>\n",
       "      <th>22</th>\n",
       "      <td>Vietnam</td>\n",
       "      <td>6877007000</td>\n",
       "      <td>0.042937</td>\n",
       "      <td>0.722836</td>\n",
       "    </tr>\n",
       "    <tr>\n",
       "      <th>4</th>\n",
       "      <td>Italy</td>\n",
       "      <td>6109329000</td>\n",
       "      <td>0.038144</td>\n",
       "      <td>0.760980</td>\n",
       "    </tr>\n",
       "    <tr>\n",
       "      <th>3</th>\n",
       "      <td>Spain</td>\n",
       "      <td>5934191000</td>\n",
       "      <td>0.037051</td>\n",
       "      <td>0.798031</td>\n",
       "    </tr>\n",
       "    <tr>\n",
       "      <th>9</th>\n",
       "      <td>France</td>\n",
       "      <td>5850549000</td>\n",
       "      <td>0.036529</td>\n",
       "      <td>0.834560</td>\n",
       "    </tr>\n",
       "  </tbody>\n",
       "</table>\n",
       "</div>\n",
       "      <button class=\"colab-df-convert\" onclick=\"convertToInteractive('df-f8c1be84-0384-4f28-a7ec-30761a78eaca')\"\n",
       "              title=\"Convert this dataframe to an interactive table.\"\n",
       "              style=\"display:none;\">\n",
       "        \n",
       "  <svg xmlns=\"http://www.w3.org/2000/svg\" height=\"24px\"viewBox=\"0 0 24 24\"\n",
       "       width=\"24px\">\n",
       "    <path d=\"M0 0h24v24H0V0z\" fill=\"none\"/>\n",
       "    <path d=\"M18.56 5.44l.94 2.06.94-2.06 2.06-.94-2.06-.94-.94-2.06-.94 2.06-2.06.94zm-11 1L8.5 8.5l.94-2.06 2.06-.94-2.06-.94L8.5 2.5l-.94 2.06-2.06.94zm10 10l.94 2.06.94-2.06 2.06-.94-2.06-.94-.94-2.06-.94 2.06-2.06.94z\"/><path d=\"M17.41 7.96l-1.37-1.37c-.4-.4-.92-.59-1.43-.59-.52 0-1.04.2-1.43.59L10.3 9.45l-7.72 7.72c-.78.78-.78 2.05 0 2.83L4 21.41c.39.39.9.59 1.41.59.51 0 1.02-.2 1.41-.59l7.78-7.78 2.81-2.81c.8-.78.8-2.07 0-2.86zM5.41 20L4 18.59l7.72-7.72 1.47 1.35L5.41 20z\"/>\n",
       "  </svg>\n",
       "      </button>\n",
       "      \n",
       "  <style>\n",
       "    .colab-df-container {\n",
       "      display:flex;\n",
       "      flex-wrap:wrap;\n",
       "      gap: 12px;\n",
       "    }\n",
       "\n",
       "    .colab-df-convert {\n",
       "      background-color: #E8F0FE;\n",
       "      border: none;\n",
       "      border-radius: 50%;\n",
       "      cursor: pointer;\n",
       "      display: none;\n",
       "      fill: #1967D2;\n",
       "      height: 32px;\n",
       "      padding: 0 0 0 0;\n",
       "      width: 32px;\n",
       "    }\n",
       "\n",
       "    .colab-df-convert:hover {\n",
       "      background-color: #E2EBFA;\n",
       "      box-shadow: 0px 1px 2px rgba(60, 64, 67, 0.3), 0px 1px 3px 1px rgba(60, 64, 67, 0.15);\n",
       "      fill: #174EA6;\n",
       "    }\n",
       "\n",
       "    [theme=dark] .colab-df-convert {\n",
       "      background-color: #3B4455;\n",
       "      fill: #D2E3FC;\n",
       "    }\n",
       "\n",
       "    [theme=dark] .colab-df-convert:hover {\n",
       "      background-color: #434B5C;\n",
       "      box-shadow: 0px 1px 3px 1px rgba(0, 0, 0, 0.15);\n",
       "      filter: drop-shadow(0px 1px 2px rgba(0, 0, 0, 0.3));\n",
       "      fill: #FFFFFF;\n",
       "    }\n",
       "  </style>\n",
       "\n",
       "      <script>\n",
       "        const buttonEl =\n",
       "          document.querySelector('#df-f8c1be84-0384-4f28-a7ec-30761a78eaca button.colab-df-convert');\n",
       "        buttonEl.style.display =\n",
       "          google.colab.kernel.accessAllowed ? 'block' : 'none';\n",
       "\n",
       "        async function convertToInteractive(key) {\n",
       "          const element = document.querySelector('#df-f8c1be84-0384-4f28-a7ec-30761a78eaca');\n",
       "          const dataTable =\n",
       "            await google.colab.kernel.invokeFunction('convertToInteractive',\n",
       "                                                     [key], {});\n",
       "          if (!dataTable) return;\n",
       "\n",
       "          const docLinkHtml = 'Like what you see? Visit the ' +\n",
       "            '<a target=\"_blank\" href=https://colab.research.google.com/notebooks/data_table.ipynb>data table notebook</a>'\n",
       "            + ' to learn more about interactive tables.';\n",
       "          element.innerHTML = '';\n",
       "          dataTable['output_type'] = 'display_data';\n",
       "          await google.colab.output.renderOutput(dataTable, element);\n",
       "          const docLink = document.createElement('div');\n",
       "          docLink.innerHTML = docLinkHtml;\n",
       "          element.appendChild(docLink);\n",
       "        }\n",
       "      </script>\n",
       "    </div>\n",
       "  </div>\n",
       "  "
      ],
      "text/plain": [
       "       destination  total_value   percent  cum_percent\n",
       "7           Mexico  28315015000  0.176788     0.176788\n",
       "1              USA  13159409000  0.082162     0.258951\n",
       "14         Belgium  13099380000  0.081788     0.340739\n",
       "6          Germany  11303451000  0.070575     0.411313\n",
       "0            China  11259992000  0.070303     0.481616\n",
       "5            Japan   8777152000  0.054801     0.536418\n",
       "11  United Kingdom   8150673000  0.050890     0.587307\n",
       "8           Brazil   7508016000  0.046877     0.634185\n",
       "2      South Korea   7321668000  0.045714     0.679898\n",
       "22         Vietnam   6877007000  0.042937     0.722836\n",
       "4            Italy   6109329000  0.038144     0.760980\n",
       "3            Spain   5934191000  0.037051     0.798031\n",
       "9           France   5850549000  0.036529     0.834560"
      ]
     },
     "execution_count": 193,
     "metadata": {},
     "output_type": "execute_result"
    }
   ],
   "source": [
    "# Creamos un dataframe para el total de Países con respecto a Exports\n",
    "# Agregamos columnas de ['percent', 'cum_percent'], para tabla de frecuencia acumulada\n",
    "df_target = pd.DataFrame(target_total, columns = ['destination', 'total_value'])\n",
    "df_target=df_target.sort_values(by=['total_value'],ascending=False)\n",
    "df_target['percent']=(df_target['total_value'] / total_target_value)\n",
    "df_target['cum_percent']=df_target['percent'].cumsum()\n",
    "df_target[:13]"
   ]
  },
  {
   "cell_type": "code",
   "execution_count": null,
   "metadata": {
    "colab": {
     "base_uri": "https://localhost:8080/",
     "height": 255
    },
    "id": "oFICoiTBkxMS",
    "outputId": "3154bfe2-5802-487a-e635-8bcade8cc48d"
   },
   "outputs": [],
   "source": [
    "# Creamos un pie chart para los procentajes de cada destino con respecto a Exports solo para los que cubren el 80% de la demanda\n",
    "# Data to plot\n",
    "labels = df_target['destination'][:13]\n",
    "sizes = df_target['percent'][:13]\n",
    "colors = ['gold', 'yellowgreen', 'lightcoral', 'lightskyblue','mediumorchid','cyan', \"orange\", \"blue\"]\n",
    "# Plot\n",
    "plt.pie(sizes, labels=labels, autopct='%1.1f%%', shadow=True, startangle=140)\n",
    "plt.axis('equal')\n",
    "plt.show()"
   ]
  },
  {
   "cell_type": "markdown",
   "metadata": {},
   "source": [
    "#Se agregan imagenes generadas en Power Bi"
   ]
  },
  {
   "cell_type": "code",
   "execution_count": null,
   "metadata": {},
   "outputs": [],
   "source": [
    "![Alt text](descargas/a.jpg \"AG title\")"
   ]
  }
 ],
 "metadata": {
  "colab": {
   "collapsed_sections": [],
   "name": "Synergy Logistics.ipynb",
   "provenance": []
  },
  "kernelspec": {
   "display_name": "Python 3 (ipykernel)",
   "language": "python",
   "name": "python3"
  },
  "language_info": {
   "codemirror_mode": {
    "name": "ipython",
    "version": 3
   },
   "file_extension": ".py",
   "mimetype": "text/x-python",
   "name": "python",
   "nbconvert_exporter": "python",
   "pygments_lexer": "ipython3",
   "version": "3.9.7"
  }
 },
 "nbformat": 4,
 "nbformat_minor": 1
}
